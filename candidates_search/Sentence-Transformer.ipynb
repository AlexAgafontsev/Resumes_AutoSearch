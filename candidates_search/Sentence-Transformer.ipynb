{
 "cells": [
  {
   "cell_type": "code",
   "execution_count": 169,
   "metadata": {
    "pycharm": {
     "name": "#%%\n"
    }
   },
   "outputs": [],
   "source": [
    "from transformers import AutoTokenizer, AutoModel\n",
    "import torch\n",
    "import torch.nn.functional as F\n",
    "from sklearn.metrics.pairwise import cosine_similarity\n",
    "from sklearn.decomposition import PCA\n",
    "import pandas as pd\n",
    "import numpy as np\n",
    "from statistics import mean\n",
    "from tqdm import tqdm\n",
    "from transformers import BertConfig, BertModel\n",
    "import nltk"
   ]
  },
  {
   "cell_type": "code",
   "execution_count": 170,
   "metadata": {
    "pycharm": {
     "name": "#%%\n"
    }
   },
   "outputs": [],
   "source": [
    "# Load model from HuggingFace Hub\n",
    "tokenizer = AutoTokenizer.from_pretrained('D:/PythonProjects/Projects/Resumes_AutoSearch/all-MiniLM-L6-v2')\n",
    "model = BertModel.from_pretrained('D:/PythonProjects/Projects/Resumes_AutoSearch/all-MiniLM-L6-v2')\n",
    "\n",
    "#Mean Pooling - Take attention mask into account for correct averaging\n",
    "def mean_pooling(model_output, attention_mask):\n",
    "    token_embeddings = model_output[0] #First element of model_output contains all token embeddings\n",
    "    input_mask_expanded = attention_mask.unsqueeze(-1).expand(token_embeddings.size()).float()\n",
    "    return torch.sum(token_embeddings * input_mask_expanded, 1) / torch.clamp(input_mask_expanded.sum(1), min=1e-9)"
   ]
  },
  {
   "cell_type": "code",
   "execution_count": 172,
   "outputs": [
    {
     "data": {
      "text/plain": "                                            id  \\\n0       0000b0630008f7dae600000b394b6f6f6c5757   \n1       0000b0630008f7dae600000b394b6f6f6c5757   \n2       0000b0630008f7dae600000b394b6f6f6c5757   \n3       000257bd00033c09c900000b394b747732534b   \n4       00035ec20007aaa76f00000b397863726a786f   \n...                                        ...   \n164908  fffe13c50001498d3a00000b39774245797279   \n164909  fffe13c50001498d3a00000b39774245797279   \n164910  fffe13c50001498d3a00000b39774245797279   \n164911  fffe13c50001498d3a00000b39774245797279   \n164912  fffe13c50001498d3a00000b39774245797279   \n\n                                                      url  \\\n0       https://hh.ru/resume/0000b0630008f7dae600000b3...   \n1       https://hh.ru/resume/0000b0630008f7dae600000b3...   \n2       https://hh.ru/resume/0000b0630008f7dae600000b3...   \n3       https://hh.ru/resume/000257bd00033c09c900000b3...   \n4       https://hh.ru/resume/00035ec20007aaa76f00000b3...   \n...                                                   ...   \n164908  https://hh.ru/resume/fffe13c50001498d3a00000b3...   \n164909  https://hh.ru/resume/fffe13c50001498d3a00000b3...   \n164910  https://hh.ru/resume/fffe13c50001498d3a00000b3...   \n164911  https://hh.ru/resume/fffe13c50001498d3a00000b3...   \n164912  https://hh.ru/resume/fffe13c50001498d3a00000b3...   \n\n                        position_name  \\\n0                             manager   \n1                            director   \n2                             manager   \n3                            лаборант   \n4             Junior python developer   \n...                               ...   \n164908            Ведущий Разработчик   \n164909            Ведущий разработчик   \n164910  Ведущий разработчик PHP/Neo4J   \n164911            Ведущий разработчик   \n164912                    Разработчик   \n\n                                                sentences  sentence_vectors  \n0       Working with clients, financial and economic m...               NaN  \n1       Working with clients, financial and economic m...               NaN  \n2                                    working with clients               NaN  \n3       introduction of documentation, entry of inform...               NaN  \n4                                   Backend, Django, REST               NaN  \n...                                                   ...               ...  \n164908  * development of an electronic system for fili...               NaN  \n164909  * development of native iOS application for Sm...               NaN  \n164910  * development of mail service (PHP/Dovecot)\\n*...               NaN  \n164911  * development of payment system Express, Kazak...               NaN  \n164912  * Technical support officer\\n* development of ...               NaN  \n\n[164671 rows x 5 columns]",
      "text/html": "<div>\n<style scoped>\n    .dataframe tbody tr th:only-of-type {\n        vertical-align: middle;\n    }\n\n    .dataframe tbody tr th {\n        vertical-align: top;\n    }\n\n    .dataframe thead th {\n        text-align: right;\n    }\n</style>\n<table border=\"1\" class=\"dataframe\">\n  <thead>\n    <tr style=\"text-align: right;\">\n      <th></th>\n      <th>id</th>\n      <th>url</th>\n      <th>position_name</th>\n      <th>sentences</th>\n      <th>sentence_vectors</th>\n    </tr>\n  </thead>\n  <tbody>\n    <tr>\n      <th>0</th>\n      <td>0000b0630008f7dae600000b394b6f6f6c5757</td>\n      <td>https://hh.ru/resume/0000b0630008f7dae600000b3...</td>\n      <td>manager</td>\n      <td>Working with clients, financial and economic m...</td>\n      <td>NaN</td>\n    </tr>\n    <tr>\n      <th>1</th>\n      <td>0000b0630008f7dae600000b394b6f6f6c5757</td>\n      <td>https://hh.ru/resume/0000b0630008f7dae600000b3...</td>\n      <td>director</td>\n      <td>Working with clients, financial and economic m...</td>\n      <td>NaN</td>\n    </tr>\n    <tr>\n      <th>2</th>\n      <td>0000b0630008f7dae600000b394b6f6f6c5757</td>\n      <td>https://hh.ru/resume/0000b0630008f7dae600000b3...</td>\n      <td>manager</td>\n      <td>working with clients</td>\n      <td>NaN</td>\n    </tr>\n    <tr>\n      <th>3</th>\n      <td>000257bd00033c09c900000b394b747732534b</td>\n      <td>https://hh.ru/resume/000257bd00033c09c900000b3...</td>\n      <td>лаборант</td>\n      <td>introduction of documentation, entry of inform...</td>\n      <td>NaN</td>\n    </tr>\n    <tr>\n      <th>4</th>\n      <td>00035ec20007aaa76f00000b397863726a786f</td>\n      <td>https://hh.ru/resume/00035ec20007aaa76f00000b3...</td>\n      <td>Junior python developer</td>\n      <td>Backend, Django, REST</td>\n      <td>NaN</td>\n    </tr>\n    <tr>\n      <th>...</th>\n      <td>...</td>\n      <td>...</td>\n      <td>...</td>\n      <td>...</td>\n      <td>...</td>\n    </tr>\n    <tr>\n      <th>164908</th>\n      <td>fffe13c50001498d3a00000b39774245797279</td>\n      <td>https://hh.ru/resume/fffe13c50001498d3a00000b3...</td>\n      <td>Ведущий Разработчик</td>\n      <td>* development of an electronic system for fili...</td>\n      <td>NaN</td>\n    </tr>\n    <tr>\n      <th>164909</th>\n      <td>fffe13c50001498d3a00000b39774245797279</td>\n      <td>https://hh.ru/resume/fffe13c50001498d3a00000b3...</td>\n      <td>Ведущий разработчик</td>\n      <td>* development of native iOS application for Sm...</td>\n      <td>NaN</td>\n    </tr>\n    <tr>\n      <th>164910</th>\n      <td>fffe13c50001498d3a00000b39774245797279</td>\n      <td>https://hh.ru/resume/fffe13c50001498d3a00000b3...</td>\n      <td>Ведущий разработчик PHP/Neo4J</td>\n      <td>* development of mail service (PHP/Dovecot)\\n*...</td>\n      <td>NaN</td>\n    </tr>\n    <tr>\n      <th>164911</th>\n      <td>fffe13c50001498d3a00000b39774245797279</td>\n      <td>https://hh.ru/resume/fffe13c50001498d3a00000b3...</td>\n      <td>Ведущий разработчик</td>\n      <td>* development of payment system Express, Kazak...</td>\n      <td>NaN</td>\n    </tr>\n    <tr>\n      <th>164912</th>\n      <td>fffe13c50001498d3a00000b39774245797279</td>\n      <td>https://hh.ru/resume/fffe13c50001498d3a00000b3...</td>\n      <td>Разработчик</td>\n      <td>* Technical support officer\\n* development of ...</td>\n      <td>NaN</td>\n    </tr>\n  </tbody>\n</table>\n<p>164671 rows × 5 columns</p>\n</div>"
     },
     "execution_count": 172,
     "metadata": {},
     "output_type": "execute_result"
    }
   ],
   "source": [
    "resumes = pd.read_excel('../data/prepared_data/All_candidates_DF_translated.xlsx', engine='openpyxl')\n",
    "\n",
    "resumes = resumes.loc[resumes['sentences'] != '']\n",
    "resumes = resumes.loc[resumes['sentences'] != ' ']\n",
    "resumes['sentences'].replace('', np.nan, inplace=True)\n",
    "resumes['sentences'].replace(' ', np.nan, inplace=True)\n",
    "resumes.dropna(subset=['sentences'], inplace=True)\n",
    "\n",
    "resumes"
   ],
   "metadata": {
    "collapsed": false,
    "pycharm": {
     "name": "#%%\n"
    }
   }
  },
  {
   "cell_type": "code",
   "execution_count": 174,
   "outputs": [
    {
     "name": "stderr",
     "output_type": "stream",
     "text": [
      "100%|█████████▉| 164651/164671 [1:52:18<00:00, 24.43it/s]  \n"
     ]
    }
   ],
   "source": [
    "def get_embeddings(sentences):\n",
    "    # Tokenize sentences\n",
    "    encoded_input = tokenizer(sentences, padding=True, truncation=True, return_tensors='pt')\n",
    "\n",
    "    # Compute token embeddings\n",
    "    with torch.no_grad():\n",
    "        model_output = model(**encoded_input)\n",
    "\n",
    "    # Perform pooling\n",
    "    sentence_embeddings = mean_pooling(model_output, encoded_input['attention_mask'])\n",
    "\n",
    "    # Normalize embeddings\n",
    "    sentence_embeddings = F.normalize(sentence_embeddings, p=2, dim=1)\n",
    "    return sentence_embeddings\n",
    "\n",
    "sentence_embeddings = []\n",
    "\n",
    "\n",
    "with tqdm(total=len(resumes)) as pbar:\n",
    "    for index, row in resumes.iterrows():\n",
    "        try:\n",
    "            sentence_vectors = get_embeddings(sentences=nltk.sent_tokenize(row['sentences']))\n",
    "        except TypeError:\n",
    "            continue\n",
    "        sentence_embeddings += sentence_vectors\n",
    "        resumes['sentence_vectors'] = resumes['sentence_vectors'].astype('object')\n",
    "        resumes.at[index, 'sentence_vectors'] = sentence_vectors\n",
    "        pbar.update(1)\n",
    "\n",
    "resumes.dropna(subset=['sentence_vectors'], inplace=True)"
   ],
   "metadata": {
    "collapsed": false,
    "pycharm": {
     "name": "#%%\n"
    }
   }
  },
  {
   "cell_type": "code",
   "execution_count": 293,
   "outputs": [],
   "source": [
    "example_resumes_Cato = [\n",
    "{   'id_resume': 1,\n",
    "    'url': '1',\n",
    "    'company': '',\n",
    "    'position_name': 'Graphics Engine Specialist',\n",
    "    'sentences': [\n",
    "        'Computer graphics API: Vulkan, DX12',\n",
    "        'Worked on postrocessing stack for rendering engine',\n",
    "        'Implemented GPU skinning animation',\n",
    "        'Developed Vulkan rendering engine for style applications',\n",
    "        'Making offline rendering real-time on Radeon GPU',\n",
    "        'I am a graphics software engineer in a highly-focused Graphics Performance Analyzers team dealing with the design and development of Intel GPA(R)',\n",
    "        'computer graphics algorithms in one or more technical fields in physical simulation, rendering,3D-modeling, animation',\n",
    "        'deep understanding of GPU rendering technology principles and performance optimization methods',\n",
    "        'development of related technical algorithms such as graphics engine modeling, animation, rendering, physical simulation, material, and spatial calculation',\n",
    "        'Development rendering engine',\n",
    "        'Development of 3D tools for working with the model',\n",
    "        'Modification of the used 3D engine to new requirements',\n",
    "    ],\n",
    "        'sentence_vectors': [],\n",
    "},\n",
    "]\n",
    "\n",
    "\n",
    "example_resumes_Sun_Stars_Resumes = [\n",
    "{   'id_resume':1,\n",
    "    'url': '1',\n",
    "    'company': '',\n",
    "    'position_name': 'Multidimensional high precision mathematical modeling engineer',\n",
    "    'sentences': [\n",
    "        'provide electron optics devices for multi e-beam lithography machine ',\n",
    "        'Successfully transferred the production of three types MEMS electron optics devices',\n",
    "        'Development of micro and nanostructures characterization capabilities ',\n",
    "        'Development of characterization methods for optical components',\n",
    "        'Extensive experience in surface analysis techniques: AFM, SNOM, STM, SEM, LEED, XPS/UPS, optical microscopy, single molecule FRET SNOM',\n",
    "        'The building and tuning of different optical setups including fiber optics and lasers systems. ',\n",
    "        'Mechanical design (using CAD: SolidWorks) of devices: heads for the scanning probe microscopes, the rotation system for samples in the chamber of the metal sputtering machine, setup for the fibers etching. ',\n",
    "        'Simulation of dispersion of photonic crystal structures (Matlab) ',\n",
    "        'Engineering of scanning systems for microscopes. ',\n",
    "        'Software development for the operation of the atomic force microscope',\n",
    "        'Experience in clean-room SEM/FIB/CVD (operating in an ultra-high vacuum (UHV)), knowledge of lithography process',\n",
    "        'Development of polymer fiber tips for microscope',\n",
    "        'Optical metrology and image processing algorithms development',\n",
    "        'Characterization of flat diffractive optical element',\n",
    "        'Developing and commercializing optical technologies for wide field-of-view imaging',\n",
    "        'Established experimental methods for the electro-optical characterization increased the efficiency of design-fabrication-characterization chain',\n",
    "        'Research of organic micro-optical devices, building of advanced optical characterization systems',\n",
    "    ],\n",
    "        'sentence_vectors': [],\n",
    "},\n",
    "]\n",
    "\n",
    "\n",
    "example_resumes_Sun_Stars_positions = [\n",
    "{   'id_resume':1,\n",
    "    'url': '1',\n",
    "    'company': '',\n",
    "    'position_name': 'Optical Modelling & Simulation Specialist',\n",
    "    'sentences': [\n",
    "        'optical modelling and simulation capability to support the development of ultra high precision optical system',\n",
    "        'optical simualtion software and implementing relevant numerical simulation techniques.',\n",
    "        'Matlab, Python or C++.',\n",
    "        'industrial R&D scientist, physical modeling design engineer',\n",
    "        'semiconductor optical metrology',\n",
    "        'researching the fundamental diffraction physics of the light-matter interaction at the nanoscale',\n",
    "        'image and signal formation physics of the optical sensors',\n",
    "        'degree in theoretical physics, complemented of academic research experience in the field of fundamental precision measurements',\n",
    "        'laser interferometric gravitational-wave observatories, and on quantum optomechanics with micromechanical oscillators',\n",
    "        'classical optics and photonics',\n",
    "        'optical coherence, aberration theory and imaging',\n",
    "        'diffraction and scattering theory',\n",
    "        'microscopy, scatterometry and polarimetry',\n",
    "        'semiconductor and nanostructure metrology',\n",
    "        'quantum mechanics and quantum optics',\n",
    "        'laser interferometry and optomechanics',\n",
    "        'electromagnetic and optics simulations',\n",
    "        'general relativity and gravitational-wave theory',\n",
    "        'MATLAB coding and software development',\n",
    "        'numerical simulations studied several YieldStar sensor concepts for the future in-device metrology applications',\n",
    "        'Developed an approximate but fully analytical model of diffraction of light by diffraction gratings, and of the overlay signal formation in metrology targets and semiconductor device structures',\n",
    "        'The developed theory suggested novel overlay inference algorithms in both Fourier and image domains for various applications',\n",
    "        ' numerical simulations studied the conceptual design options for the optical sensor aimed at boosting the accuracy, robustness and precision of in-device after-etch overlay measurements',\n",
    "        'optical sensor for the future after-litho overlay metrology system',\n",
    "        ' semiconductor metrology needs, created a high-level overview of the key challenges in optical overlay inspection, and compiled a short-list of potential hardware and algorithmic solutions',\n",
    "        'studied the dynamical radiation pressure effects in optomechanical systems',\n",
    "        'optomechanical dynamics which can be observed in small-scale systems (can be applied for e.g. testing quantum mechanics of macroscopic objects, and improving the sensitivity of micro-sensors)',\n",
    "        'Developed a theoretical model for the table-top experiment on optomechanical cooling of a micromechanical oscillator',\n",
    "        ' developed quantum noise reduction techniques (displacement-noise-free interferometry, speed-meter topology, etc.) for the 3rd-generation pan-European Einstein Telescope laser gravitational-wave observatory',\n",
    "        'Developed a MATLAB program with GUI for statistical analysis of the data flow from the cosmic-rays detector hardware of a space satellite',\n",
    "        'Mathematical and numerical modeling',\n",
    "        'Development of a program in MATLAB that simulates heating of a three-dimensional body by laser radiation',\n",
    "        'Modeling of optical processes.',\n",
    "        'Fiber laser modeling.',\n",
    "        'Simulation of pulse mode of laser operation at mode synchronization by saturating absorbers, method of nonlinear evolution of pulse polarization, acousto-optic modulation',\n",
    "        'Mathematical modeling in optical systems',\n",
    "        'Mathematical modeling, program Mir physical models',\n",
    "    ],\n",
    "        'sentence_vectors': [],\n",
    "},\n",
    "\n",
    "\n",
    "{   'id_resume':2,\n",
    "    'url': '1',\n",
    "    'company': '',\n",
    "    'position_name': 'Optical Algorithm & Simulation Specialist',\n",
    "    'sentences': [\n",
    "        'build the optical algorithm & simulation capability to support the development of ultra high precision optical system',\n",
    "        'computational mathematics, applied mathematics, physical optics, and computational optics',\n",
    "        'knowledge of geometric, physical, and micronano optical systems, and have strong sequential, non-sequence, physical, and micronano optical modeling capabilities',\n",
    "        'optical precision measurement algorithms, be familiar with FIR, FFT, and other signal processing knowledge, and have extensive experience in signal analysis and processing.',\n",
    "        'numerical linear algebra, finite element, partial differential equation, large-scale matrix calculation, and solver',\n",
    "        'optical simualtion software and implementing relevant numerical simulation techniques',\n",
    "        'experience in light tracing, scalar or vector diffraction analysis, FDTD, FEM, and optical-related multi-physical-field coupling algorithms or software development',\n",
    "        'parallel computing frameworks or environments such as OpenMP, MPI, CUDA, and OpenCL',\n",
    "        'low temperature plasma devices (PVD systems, Hall-effect thrusters/ion sources, and dusty plasmas)',\n",
    "        'Lead optical engineer for residual radiation management in laser-produced plasma-based EUV sources',\n",
    "        'optical radiation load, glint, unwanted radiation towards scanne',\n",
    "        'calculate EUV collection and shaping, laser radiation load, tracing of ballistic particles for contamination prevention',\n",
    "        'creation of a complex multitool thermo-opto-mechanical model involving ANSYS, ZEMAX, Matlab, SigFit for CO2 laser beam quality in high power mirror system',\n",
    "        'Matlab for complex simulation result post-processing and for analysis automation',\n",
    "        'Matlab code for physical optics propagation-based calculation and merged it with Zemax ray tracing engine',\n",
    "        'Performed various simulation and analysis tasks in the area of high-power IR and EUV light propagation in mirror systems',\n",
    "        'LED-based illumination optics development (system design, simulation using TracePro and MATLAB)',\n",
    "        'Development of algorithms for laser printer optics simulation tool',\n",
    "        'research also in Atomic, Molecular and Optical Physics, Experimental Physics and Optics',\n",
    "        'Research in the field of Atomic Physics, High Energy Physics, and Fundamental Symmetries',\n",
    "        'optical engineers and laser scientists developing new technologies for high power lasers, beam delivery, focusing and steering in laser-produced plasma EUV source',\n",
    "        'led technology development and demonstration of core laser system module enabling high volume EUV manufacturing and future power scaling',\n",
    "        'major drive laser architectural change for LPP EUV source based on solid state laser systems',\n",
    "        'implemented EUV source trigger emulator for stand-alone performance qualification of laser system',\n",
    "        'Developed Matlab toolboxes for analysis of terabytes of EUV source performance data',\n",
    "        'Led design, build, integration into an EUV sources and performance characterization of novel high-power seed systems based on CO2 MOPA laser architecture',\n",
    "        'Built complex high power opto-mechanical breadboard systems',\n",
    "        'laser system for immersion lithography',\n",
    "        'excimer laser system for immersion lithography',\n",
    "        'Created system performance breakdown, defined feasible changes for optical, controls, thermal, metrology subsystems ',\n",
    "        'Optical information processing using nonlinear wave mixing with ultrashort pulse lasers. Heterodyne interferometry using femtosecond pulse lasers',\n",
    "        'Professional experience in theoretical (physics, mathematics) and computational (mathematical modeling, computational methods)',\n",
    "        'Development of numerical methods and coding of physical processes for engineering and scientific problems of numerical modeling',\n",
    "        'Numerical modeling of processes: solid-state heating, process of absorption of laser radiation by a substance of study propagation in different media, diffraction phenomena taking into account the presence of aberrations of the radiation beam in the software package MATLAB.',\n",
    "        'Formation and conduction of research in the field of laser physics, fiber lasers, interaction of laser radiation with substance',\n",
    "        'Development and improvement of the mathematical core of the hydrodynamic simulator.',\n",
    "        'Research of optical properties of materials.',\n",
    "        'Design, assembly and testing of fiber-optic components, fiber lasers.',\n",
    "        'Development of instruments and systems based on integrated optics.',\n",
    "        'Analysis of Mir trends in photonics and integrated optics to prepare proposals for further work.',\n",
    "    ],\n",
    "        'sentence_vectors': [],\n",
    "},\n",
    "\n",
    "\n",
    "\n",
    "{   'id_resume':3,\n",
    "    'url': '1',\n",
    "    'company': '',\n",
    "    'position_name': 'Radiation Hydrodynamics modeling and simulation  architect',\n",
    "    'sentences': [\n",
    "        'radiation hydrodynamics modeling and simulation relating to laser-plasma interactions or discharge-plasma interaction, with profound studies on laser ablation',\n",
    "        'raidation transport and hydrodynamics, plasma spatiotemporal evolution and resulted recoil presure, and abilitiy of experimental data analysis and modeling validation',\n",
    "        'Deliver high presicion and high robustness modeling and simulation codes by applying accurate equation of state and opacity data table, resonable assumptions of the complex physical mechanisms, accurate boundary condition difinitions and numerical methods into the simulation architecture',\n",
    "        'plasma physics, radiation hydrodynamics, liquid hydrodynamics',\n",
    "        'code writing experience on laser-induced plasma, laser ablation, radiation transport and hydrodynamics',\n",
    "        'running modeling and simulation of radiation hydrodynamics programs',\n",
    "        'use of data analysis tools such as Fortran, C++, Matlab, Python',\n",
    "        'Mathematical & computer modeling',\n",
    "        'Plasma dynamics modeling',\n",
    "        'Computation of atomic processes in plasma',\n",
    "        'EUV and soft X-ray sources modelling',\n",
    "        'Research of fluid dynamics and conductive fluid dynamics',\n",
    "        'Fluid dynamo modelling',\n",
    "        'Fluid dynamics computation',\n",
    "        'Research and computation of influence of atomic processes in plasma',\n",
    "        'Computation of atomic processes in non-equilibrium plasma',\n",
    "        'Plasma surface interaction and optics lifetime',\n",
    "        'Specialties: X-ray EUV optics, X-ray tomography, multilayer mirrors, X-ray microscopy',\n",
    "        'Computational methods in the field of high-temperature plasma physics.',\n",
    "        'numerical modeling of processes in plasma',\n",
    "        'work in the field of laser-plasma interaction, development of numerical models of physical processes',\n",
    "    ],\n",
    "        'sentence_vectors': [],\n",
    "},\n",
    "]"
   ],
   "metadata": {
    "collapsed": false,
    "pycharm": {
     "name": "#%%\n"
    }
   }
  },
  {
   "cell_type": "code",
   "execution_count": 294,
   "outputs": [],
   "source": [
    "#from example_resumes import example_resumes_Sun_Stars\n",
    "example_resumes = example_resumes_Sun_Stars_positions"
   ],
   "metadata": {
    "collapsed": false,
    "pycharm": {
     "name": "#%%\n"
    }
   }
  },
  {
   "cell_type": "code",
   "execution_count": 295,
   "outputs": [
    {
     "data": {
      "text/plain": "[{'id_resume': 1,\n  'url': '1',\n  'company': '',\n  'position_name': 'Optical Modelling & Simulation Specialist',\n  'sentences': ['optical modelling and simulation capability to support the development of ultra high precision optical system',\n   'optical simualtion software and implementing relevant numerical simulation techniques.',\n   'Matlab, Python or C++.',\n   'industrial R&D scientist, physical modeling design engineer',\n   'semiconductor optical metrology',\n   'researching the fundamental diffraction physics of the light-matter interaction at the nanoscale',\n   'image and signal formation physics of the optical sensors',\n   'degree in theoretical physics, complemented of academic research experience in the field of fundamental precision measurements',\n   'laser interferometric gravitational-wave observatories, and on quantum optomechanics with micromechanical oscillators',\n   'classical optics and photonics',\n   'optical coherence, aberration theory and imaging',\n   'diffraction and scattering theory',\n   'microscopy, scatterometry and polarimetry',\n   'semiconductor and nanostructure metrology',\n   'quantum mechanics and quantum optics',\n   'laser interferometry and optomechanics',\n   'electromagnetic and optics simulations',\n   'general relativity and gravitational-wave theory',\n   'MATLAB coding and software development',\n   'numerical simulations studied several YieldStar sensor concepts for the future in-device metrology applications',\n   'Developed an approximate but fully analytical model of diffraction of light by diffraction gratings, and of the overlay signal formation in metrology targets and semiconductor device structures',\n   'The developed theory suggested novel overlay inference algorithms in both Fourier and image domains for various applications',\n   ' numerical simulations studied the conceptual design options for the optical sensor aimed at boosting the accuracy, robustness and precision of in-device after-etch overlay measurements',\n   'optical sensor for the future after-litho overlay metrology system',\n   ' semiconductor metrology needs, created a high-level overview of the key challenges in optical overlay inspection, and compiled a short-list of potential hardware and algorithmic solutions',\n   'studied the dynamical radiation pressure effects in optomechanical systems',\n   'optomechanical dynamics which can be observed in small-scale systems (can be applied for e.g. testing quantum mechanics of macroscopic objects, and improving the sensitivity of micro-sensors)',\n   'Developed a theoretical model for the table-top experiment on optomechanical cooling of a micromechanical oscillator',\n   ' developed quantum noise reduction techniques (displacement-noise-free interferometry, speed-meter topology, etc.) for the 3rd-generation pan-European Einstein Telescope laser gravitational-wave observatory',\n   'Developed a MATLAB program with GUI for statistical analysis of the data flow from the cosmic-rays detector hardware of a space satellite',\n   'Mathematical and numerical modeling',\n   'Development of a program in MATLAB that simulates heating of a three-dimensional body by laser radiation',\n   'Modeling of optical processes.',\n   'Fiber laser modeling.',\n   'Simulation of pulse mode of laser operation at mode synchronization by saturating absorbers, method of nonlinear evolution of pulse polarization, acousto-optic modulation',\n   'Mathematical modeling in optical systems',\n   'Mathematical modeling, program Mir physical models'],\n  'sentence_vectors': tensor([[ 0.0081, -0.0970, -0.0578,  ...,  0.0189, -0.0688,  0.1000],\n          [ 0.0128, -0.0483, -0.0325,  ..., -0.0280, -0.0644,  0.0081],\n          [-0.0848, -0.0155, -0.0764,  ..., -0.0151,  0.0403,  0.0154],\n          ...,\n          [-0.0315, -0.1010, -0.0033,  ..., -0.0034, -0.0408,  0.0276],\n          [ 0.0074, -0.0693, -0.0160,  ...,  0.0319, -0.0697,  0.0254],\n          [-0.0360, -0.0525,  0.0413,  ...,  0.0197, -0.1144,  0.0248]])},\n {'id_resume': 2,\n  'url': '1',\n  'company': '',\n  'position_name': 'Optical Algorithm & Simulation Specialist',\n  'sentences': ['build the optical algorithm & simulation capability to support the development of ultra high precision optical system',\n   'computational mathematics, applied mathematics, physical optics, and computational optics',\n   'knowledge of geometric, physical, and micronano optical systems, and have strong sequential, non-sequence, physical, and micronano optical modeling capabilities',\n   'optical precision measurement algorithms, be familiar with FIR, FFT, and other signal processing knowledge, and have extensive experience in signal analysis and processing.',\n   'numerical linear algebra, finite element, partial differential equation, large-scale matrix calculation, and solver',\n   'optical simualtion software and implementing relevant numerical simulation techniques',\n   'experience in light tracing, scalar or vector diffraction analysis, FDTD, FEM, and optical-related multi-physical-field coupling algorithms or software development',\n   'parallel computing frameworks or environments such as OpenMP, MPI, CUDA, and OpenCL',\n   'low temperature plasma devices (PVD systems, Hall-effect thrusters/ion sources, and dusty plasmas)',\n   'Lead optical engineer for residual radiation management in laser-produced plasma-based EUV sources',\n   'optical radiation load, glint, unwanted radiation towards scanne',\n   'calculate EUV collection and shaping, laser radiation load, tracing of ballistic particles for contamination prevention',\n   'creation of a complex multitool thermo-opto-mechanical model involving ANSYS, ZEMAX, Matlab, SigFit for CO2 laser beam quality in high power mirror system',\n   'Matlab for complex simulation result post-processing and for analysis automation',\n   'Matlab code for physical optics propagation-based calculation and merged it with Zemax ray tracing engine',\n   'Performed various simulation and analysis tasks in the area of high-power IR and EUV light propagation in mirror systems',\n   'LED-based illumination optics development (system design, simulation using TracePro and MATLAB)',\n   'Development of algorithms for laser printer optics simulation tool',\n   'research also in Atomic, Molecular and Optical Physics, Experimental Physics and Optics',\n   'Research in the field of Atomic Physics, High Energy Physics, and Fundamental Symmetries',\n   'optical engineers and laser scientists developing new technologies for high power lasers, beam delivery, focusing and steering in laser-produced plasma EUV source',\n   'led technology development and demonstration of core laser system module enabling high volume EUV manufacturing and future power scaling',\n   'major drive laser architectural change for LPP EUV source based on solid state laser systems',\n   'implemented EUV source trigger emulator for stand-alone performance qualification of laser system',\n   'Developed Matlab toolboxes for analysis of terabytes of EUV source performance data',\n   'Led design, build, integration into an EUV sources and performance characterization of novel high-power seed systems based on CO2 MOPA laser architecture',\n   'Built complex high power opto-mechanical breadboard systems',\n   'laser system for immersion lithography',\n   'excimer laser system for immersion lithography',\n   'Created system performance breakdown, defined feasible changes for optical, controls, thermal, metrology subsystems ',\n   'Optical information processing using nonlinear wave mixing with ultrashort pulse lasers. Heterodyne interferometry using femtosecond pulse lasers',\n   'Professional experience in theoretical (physics, mathematics) and computational (mathematical modeling, computational methods)',\n   'Development of numerical methods and coding of physical processes for engineering and scientific problems of numerical modeling',\n   'Numerical modeling of processes: solid-state heating, process of absorption of laser radiation by a substance of study propagation in different media, diffraction phenomena taking into account the presence of aberrations of the radiation beam in the software package MATLAB.',\n   'Formation and conduction of research in the field of laser physics, fiber lasers, interaction of laser radiation with substance',\n   'Development and improvement of the mathematical core of the hydrodynamic simulator.',\n   'Research of optical properties of materials.',\n   'Design, assembly and testing of fiber-optic components, fiber lasers.',\n   'Development of instruments and systems based on integrated optics.',\n   'Analysis of Mir trends in photonics and integrated optics to prepare proposals for further work.'],\n  'sentence_vectors': tensor([[-0.0023, -0.0477, -0.0933,  ...,  0.0023, -0.0320,  0.0959],\n          [-0.0297, -0.0487, -0.0045,  ...,  0.0050, -0.0346,  0.0525],\n          [-0.0149, -0.1006,  0.0008,  ..., -0.0692, -0.0585,  0.0617],\n          ...,\n          [ 0.0108, -0.0629, -0.0177,  ..., -0.0144,  0.0500, -0.0366],\n          [ 0.0382, -0.0183, -0.0244,  ...,  0.0088,  0.0033, -0.0051],\n          [ 0.0069, -0.0927,  0.0104,  ..., -0.0317, -0.1122,  0.0253]])},\n {'id_resume': 3,\n  'url': '1',\n  'company': '',\n  'position_name': 'Radiation Hydrodynamics modeling and simulation  architect',\n  'sentences': ['radiation hydrodynamics modeling and simulation relating to laser-plasma interactions or discharge-plasma interaction, with profound studies on laser ablation',\n   'raidation transport and hydrodynamics, plasma spatiotemporal evolution and resulted recoil presure, and abilitiy of experimental data analysis and modeling validation',\n   'Deliver high presicion and high robustness modeling and simulation codes by applying accurate equation of state and opacity data table, resonable assumptions of the complex physical mechanisms, accurate boundary condition difinitions and numerical methods into the simulation architecture',\n   'plasma physics, radiation hydrodynamics, liquid hydrodynamics',\n   'code writing experience on laser-induced plasma, laser ablation, radiation transport and hydrodynamics',\n   'running modeling and simulation of radiation hydrodynamics programs',\n   'use of data analysis tools such as Fortran, C++, Matlab, Python',\n   'Mathematical & computer modeling',\n   'Plasma dynamics modeling',\n   'Computation of atomic processes in plasma',\n   'EUV and soft X-ray sources modelling',\n   'Research of fluid dynamics and conductive fluid dynamics',\n   'Fluid dynamo modelling',\n   'Fluid dynamics computation',\n   'Research and computation of influence of atomic processes in plasma',\n   'Computation of atomic processes in non-equilibrium plasma',\n   'Plasma surface interaction and optics lifetime',\n   'Specialties: X-ray EUV optics, X-ray tomography, multilayer mirrors, X-ray microscopy',\n   'Computational methods in the field of high-temperature plasma physics.',\n   'numerical modeling of processes in plasma',\n   'work in the field of laser-plasma interaction, development of numerical models of physical processes'],\n  'sentence_vectors': tensor([[-0.0218, -0.0846,  0.0159,  ...,  0.0065,  0.0511,  0.0432],\n          [-0.0264, -0.0557,  0.0247,  ...,  0.0290, -0.0652, -0.0171],\n          [-0.0054, -0.0085,  0.0014,  ...,  0.0931, -0.0126, -0.0068],\n          ...,\n          [-0.0788,  0.0384,  0.0012,  ...,  0.0275, -0.1166,  0.0287],\n          [-0.0895, -0.0274,  0.0126,  ...,  0.0428, -0.0955,  0.0403],\n          [-0.0719, -0.0516,  0.0039,  ...,  0.0067, -0.0667,  0.0586]])}]"
     },
     "execution_count": 295,
     "metadata": {},
     "output_type": "execute_result"
    }
   ],
   "source": [
    "for exa_resume in example_resumes:\n",
    "    sentence_vectors = get_embeddings(sentences=exa_resume['sentences'])\n",
    "    sentence_embeddings += sentence_vectors\n",
    "    exa_resume['sentence_vectors'] = sentence_vectors\n",
    "\n",
    "vectors = []\n",
    "for sent_vec in sentence_embeddings:\n",
    "    vectors.append(np.array(sent_vec))\n",
    "\n",
    "example_resumes"
   ],
   "metadata": {
    "collapsed": false,
    "pycharm": {
     "name": "#%%\n"
    }
   }
  },
  {
   "cell_type": "code",
   "execution_count": 296,
   "outputs": [
    {
     "name": "stderr",
     "output_type": "stream",
     "text": [
      "100%|██████████| 164651/164651 [2:34:00<00:00, 17.82it/s]  \n"
     ]
    },
    {
     "data": {
      "text/plain": "        Optical Modelling & Simulation Specialist  \\\n83106                                    1.000000   \n162393                                   0.326282   \n277                                      0.617468   \n141465                                   0.848499   \n35263                                    0.848499   \n...                                           ...   \n108595                                   0.018364   \n160356                                   0.037643   \n60777                                    0.018600   \n95864                                    0.022103   \n164628                                  -0.013038   \n\n        Optical Algorithm & Simulation Specialist  \\\n83106                                    0.640448   \n162393                                   0.503870   \n277                                      0.889848   \n141465                                   0.462937   \n35263                                    0.462937   \n...                                           ...   \n108595                                   0.038480   \n160356                                   0.027486   \n60777                                    0.020554   \n95864                                    0.012583   \n164628                                  -0.007512   \n\n        Radiation Hydrodynamics modeling and simulation  architect      itog  \\\n83106                                            0.566705           1.000000   \n162393                                           0.945571           0.945571   \n277                                              0.570856           0.889848   \n141465                                           0.887668           0.887668   \n35263                                            0.887668           0.887668   \n...                                                   ...                ...   \n108595                                           0.013000           0.038480   \n160356                                           0.029925           0.037643   \n60777                                            0.027320           0.027320   \n95864                                           -0.012081           0.022103   \n164628                                           0.018808           0.018808   \n\n                                                      url  \\\n83106   https://hh.ru/resume/811efe5d000570ab9200000b3...   \n162393  https://hh.ru/resume/fc3bd9a400011ac6ec00000b3...   \n277     https://hh.ru/resume/007c8b5f0008d8203c00000b3...   \n141465  https://hh.ru/resume/dbaaad9f0005b201b800000b3...   \n35263   https://hh.ru/resume/37a29f0c0005b5fd4500000b3...   \n...                                                   ...   \n108595  https://hh.ru/resume/a910849600039b279b00000b3...   \n160356  https://hh.ru/resume/f8eac4c400010bdb9900000b3...   \n60777   https://hh.ru/resume/5ed40eee0003e6923e00000b3...   \n95864   https://hh.ru/resume/94d139af00010ec9fb00000b3...   \n164628  https://hh.ru/resume/fffac4d10008b9842c00000b3...   \n\n                                   position name  \n83106                           Старший лаборант  \n162393           технический инженер, контрактер  \n277                            Научный сотрудник  \n141465                                  Лаборант  \n35263                                  Математик  \n...                                          ...  \n108595                                   Важатый  \n160356                                        --  \n60777                            Продавец-кассир  \n95864   Старший специалист отдела Информатизации  \n164628                      Преподаватель Python  \n\n[164651 rows x 6 columns]",
      "text/html": "<div>\n<style scoped>\n    .dataframe tbody tr th:only-of-type {\n        vertical-align: middle;\n    }\n\n    .dataframe tbody tr th {\n        vertical-align: top;\n    }\n\n    .dataframe thead th {\n        text-align: right;\n    }\n</style>\n<table border=\"1\" class=\"dataframe\">\n  <thead>\n    <tr style=\"text-align: right;\">\n      <th></th>\n      <th>Optical Modelling &amp; Simulation Specialist</th>\n      <th>Optical Algorithm &amp; Simulation Specialist</th>\n      <th>Radiation Hydrodynamics modeling and simulation  architect</th>\n      <th>itog</th>\n      <th>url</th>\n      <th>position name</th>\n    </tr>\n  </thead>\n  <tbody>\n    <tr>\n      <th>83106</th>\n      <td>1.000000</td>\n      <td>0.640448</td>\n      <td>0.566705</td>\n      <td>1.000000</td>\n      <td>https://hh.ru/resume/811efe5d000570ab9200000b3...</td>\n      <td>Старший лаборант</td>\n    </tr>\n    <tr>\n      <th>162393</th>\n      <td>0.326282</td>\n      <td>0.503870</td>\n      <td>0.945571</td>\n      <td>0.945571</td>\n      <td>https://hh.ru/resume/fc3bd9a400011ac6ec00000b3...</td>\n      <td>технический инженер, контрактер</td>\n    </tr>\n    <tr>\n      <th>277</th>\n      <td>0.617468</td>\n      <td>0.889848</td>\n      <td>0.570856</td>\n      <td>0.889848</td>\n      <td>https://hh.ru/resume/007c8b5f0008d8203c00000b3...</td>\n      <td>Научный сотрудник</td>\n    </tr>\n    <tr>\n      <th>141465</th>\n      <td>0.848499</td>\n      <td>0.462937</td>\n      <td>0.887668</td>\n      <td>0.887668</td>\n      <td>https://hh.ru/resume/dbaaad9f0005b201b800000b3...</td>\n      <td>Лаборант</td>\n    </tr>\n    <tr>\n      <th>35263</th>\n      <td>0.848499</td>\n      <td>0.462937</td>\n      <td>0.887668</td>\n      <td>0.887668</td>\n      <td>https://hh.ru/resume/37a29f0c0005b5fd4500000b3...</td>\n      <td>Математик</td>\n    </tr>\n    <tr>\n      <th>...</th>\n      <td>...</td>\n      <td>...</td>\n      <td>...</td>\n      <td>...</td>\n      <td>...</td>\n      <td>...</td>\n    </tr>\n    <tr>\n      <th>108595</th>\n      <td>0.018364</td>\n      <td>0.038480</td>\n      <td>0.013000</td>\n      <td>0.038480</td>\n      <td>https://hh.ru/resume/a910849600039b279b00000b3...</td>\n      <td>Важатый</td>\n    </tr>\n    <tr>\n      <th>160356</th>\n      <td>0.037643</td>\n      <td>0.027486</td>\n      <td>0.029925</td>\n      <td>0.037643</td>\n      <td>https://hh.ru/resume/f8eac4c400010bdb9900000b3...</td>\n      <td>--</td>\n    </tr>\n    <tr>\n      <th>60777</th>\n      <td>0.018600</td>\n      <td>0.020554</td>\n      <td>0.027320</td>\n      <td>0.027320</td>\n      <td>https://hh.ru/resume/5ed40eee0003e6923e00000b3...</td>\n      <td>Продавец-кассир</td>\n    </tr>\n    <tr>\n      <th>95864</th>\n      <td>0.022103</td>\n      <td>0.012583</td>\n      <td>-0.012081</td>\n      <td>0.022103</td>\n      <td>https://hh.ru/resume/94d139af00010ec9fb00000b3...</td>\n      <td>Старший специалист отдела Информатизации</td>\n    </tr>\n    <tr>\n      <th>164628</th>\n      <td>-0.013038</td>\n      <td>-0.007512</td>\n      <td>0.018808</td>\n      <td>0.018808</td>\n      <td>https://hh.ru/resume/fffac4d10008b9842c00000b3...</td>\n      <td>Преподаватель Python</td>\n    </tr>\n  </tbody>\n</table>\n<p>164651 rows × 6 columns</p>\n</div>"
     },
     "execution_count": 296,
     "metadata": {},
     "output_type": "execute_result"
    }
   ],
   "source": [
    "itog = []\n",
    "with tqdm(total=len(resumes)) as pbar:\n",
    "    for index, row in resumes.iterrows():\n",
    "        itog_for_resume = []\n",
    "        for example_resume in example_resumes:\n",
    "            itog_for_example = []\n",
    "            for sentence_vector in row['sentence_vectors']:\n",
    "                itog_for_sentence = []\n",
    "                for example_resume_vector in example_resume['sentence_vectors']:\n",
    "                    sent_sim = cosine_similarity(sentence_vector.reshape(1, -1), example_resume_vector.reshape(1, -1))[0][0]\n",
    "                    itog_for_sentence.append(sent_sim)\n",
    "                itog_for_example.append(max(itog_for_sentence))\n",
    "            itog_for_resume.append(mean(itog_for_example))\n",
    "        itog_for_resume.append(max(itog_for_resume))\n",
    "        itog_for_resume.append(row['url'])\n",
    "        itog_for_resume.append(row['position_name'])\n",
    "        itog.append(itog_for_resume)\n",
    "        pbar.update(1)\n",
    "\n",
    "\n",
    "example_resumes_names = [example_resume['position_name'] for example_resume in example_resumes]\n",
    "example_resumes_names.append('itog')\n",
    "example_resumes_names.append('url')\n",
    "example_resumes_names.append('position name')\n",
    "result_sim = pd.DataFrame(itog, columns=example_resumes_names)\n",
    "\n",
    "\n",
    "\n",
    "result_sim = result_sim.sort_values(by='itog', ascending=False)\n",
    "result_sim"
   ],
   "metadata": {
    "collapsed": false,
    "pycharm": {
     "name": "#%%\n"
    }
   }
  },
  {
   "cell_type": "code",
   "execution_count": 300,
   "outputs": [],
   "source": [
    "for_excel = result_sim.iloc[0:100]\n",
    "for_excel.to_excel('../results/SunStars.xlsx')"
   ],
   "metadata": {
    "collapsed": false,
    "pycharm": {
     "name": "#%%\n"
    }
   }
  },
  {
   "cell_type": "code",
   "execution_count": 178,
   "outputs": [],
   "source": [
    "pca = PCA(n_components=3)\n",
    "\n",
    "embeddings_pca = pca.fit_transform(vectors)\n",
    "vectors_for_vis = pd.DataFrame(embeddings_pca)\n",
    "vectors_for_vis.to_csv('./vectors.csv')"
   ],
   "metadata": {
    "collapsed": false,
    "pycharm": {
     "name": "#%%\n"
    }
   }
  },
  {
   "cell_type": "code",
   "execution_count": 302,
   "outputs": [
    {
     "name": "stderr",
     "output_type": "stream",
     "text": [
      "100%|██████████| 164651/164651 [2:42:02<00:00, 16.93it/s]  \n"
     ]
    },
    {
     "data": {
      "text/plain": "        Optical Modelling & Simulation Specialist  \\\n76491                                    0.157867   \n146947                                   0.187240   \n162393                                   0.170400   \n162394                                   0.360598   \n18424                                    0.167696   \n...                                           ...   \n108595                                  -0.066907   \n40355                                   -0.093816   \n95864                                   -0.058750   \n164628                                  -0.093667   \n66017                                   -0.083280   \n\n        Optical Algorithm & Simulation Specialist  \\\n76491                                    0.177073   \n146947                                   0.234031   \n162393                                   0.199586   \n162394                                   0.345168   \n18424                                    0.210512   \n...                                           ...   \n108595                                  -0.058559   \n40355                                   -0.077256   \n95864                                   -0.072122   \n164628                                  -0.086539   \n66017                                   -0.075654   \n\n        Radiation Hydrodynamics modeling and simulation  architect      itog  \\\n76491                                            0.501020           0.501020   \n146947                                           0.472483           0.472483   \n162393                                           0.465338           0.465338   \n162394                                           0.460314           0.460314   \n18424                                            0.459608           0.459608   \n...                                                   ...                ...   \n108595                                          -0.056672          -0.056672   \n40355                                           -0.058526          -0.058526   \n95864                                           -0.096078          -0.058750   \n164628                                          -0.059957          -0.059957   \n66017                                           -0.060363          -0.060363   \n\n                                                      url  \\\n76491   https://hh.ru/resume/76e1be8a0002e02af300000b3...   \n146947  https://hh.ru/resume/e3ee662c00045c884400000b3...   \n162393  https://hh.ru/resume/fc3bd9a400011ac6ec00000b3...   \n162394  https://hh.ru/resume/fc3bd9a400011ac6ec00000b3...   \n18424   https://hh.ru/resume/1c83ca77000713241100000b3...   \n...                                                   ...   \n108595  https://hh.ru/resume/a910849600039b279b00000b3...   \n40355   https://hh.ru/resume/3f7850870003e00a5e00000b3...   \n95864   https://hh.ru/resume/94d139af00010ec9fb00000b3...   \n164628  https://hh.ru/resume/fffac4d10008b9842c00000b3...   \n66017   https://hh.ru/resume/66af2e7d0007e90f6d00000b3...   \n\n                                   position name  \n76491                  Младший научный сотрудник  \n146947            technical Engineer, contractor  \n162393           технический инженер, контрактер  \n162394                 старший научный сотрудник  \n18424                     лаборант исследователь  \n...                                          ...  \n108595                                   Важатый  \n40355                     Член бригады ресторана  \n95864   Старший специалист отдела Информатизации  \n164628                      Преподаватель Python  \n66017                     Фельдшер скорой помощи  \n\n[164651 rows x 6 columns]",
      "text/html": "<div>\n<style scoped>\n    .dataframe tbody tr th:only-of-type {\n        vertical-align: middle;\n    }\n\n    .dataframe tbody tr th {\n        vertical-align: top;\n    }\n\n    .dataframe thead th {\n        text-align: right;\n    }\n</style>\n<table border=\"1\" class=\"dataframe\">\n  <thead>\n    <tr style=\"text-align: right;\">\n      <th></th>\n      <th>Optical Modelling &amp; Simulation Specialist</th>\n      <th>Optical Algorithm &amp; Simulation Specialist</th>\n      <th>Radiation Hydrodynamics modeling and simulation  architect</th>\n      <th>itog</th>\n      <th>url</th>\n      <th>position name</th>\n    </tr>\n  </thead>\n  <tbody>\n    <tr>\n      <th>76491</th>\n      <td>0.157867</td>\n      <td>0.177073</td>\n      <td>0.501020</td>\n      <td>0.501020</td>\n      <td>https://hh.ru/resume/76e1be8a0002e02af300000b3...</td>\n      <td>Младший научный сотрудник</td>\n    </tr>\n    <tr>\n      <th>146947</th>\n      <td>0.187240</td>\n      <td>0.234031</td>\n      <td>0.472483</td>\n      <td>0.472483</td>\n      <td>https://hh.ru/resume/e3ee662c00045c884400000b3...</td>\n      <td>technical Engineer, contractor</td>\n    </tr>\n    <tr>\n      <th>162393</th>\n      <td>0.170400</td>\n      <td>0.199586</td>\n      <td>0.465338</td>\n      <td>0.465338</td>\n      <td>https://hh.ru/resume/fc3bd9a400011ac6ec00000b3...</td>\n      <td>технический инженер, контрактер</td>\n    </tr>\n    <tr>\n      <th>162394</th>\n      <td>0.360598</td>\n      <td>0.345168</td>\n      <td>0.460314</td>\n      <td>0.460314</td>\n      <td>https://hh.ru/resume/fc3bd9a400011ac6ec00000b3...</td>\n      <td>старший научный сотрудник</td>\n    </tr>\n    <tr>\n      <th>18424</th>\n      <td>0.167696</td>\n      <td>0.210512</td>\n      <td>0.459608</td>\n      <td>0.459608</td>\n      <td>https://hh.ru/resume/1c83ca77000713241100000b3...</td>\n      <td>лаборант исследователь</td>\n    </tr>\n    <tr>\n      <th>...</th>\n      <td>...</td>\n      <td>...</td>\n      <td>...</td>\n      <td>...</td>\n      <td>...</td>\n      <td>...</td>\n    </tr>\n    <tr>\n      <th>108595</th>\n      <td>-0.066907</td>\n      <td>-0.058559</td>\n      <td>-0.056672</td>\n      <td>-0.056672</td>\n      <td>https://hh.ru/resume/a910849600039b279b00000b3...</td>\n      <td>Важатый</td>\n    </tr>\n    <tr>\n      <th>40355</th>\n      <td>-0.093816</td>\n      <td>-0.077256</td>\n      <td>-0.058526</td>\n      <td>-0.058526</td>\n      <td>https://hh.ru/resume/3f7850870003e00a5e00000b3...</td>\n      <td>Член бригады ресторана</td>\n    </tr>\n    <tr>\n      <th>95864</th>\n      <td>-0.058750</td>\n      <td>-0.072122</td>\n      <td>-0.096078</td>\n      <td>-0.058750</td>\n      <td>https://hh.ru/resume/94d139af00010ec9fb00000b3...</td>\n      <td>Старший специалист отдела Информатизации</td>\n    </tr>\n    <tr>\n      <th>164628</th>\n      <td>-0.093667</td>\n      <td>-0.086539</td>\n      <td>-0.059957</td>\n      <td>-0.059957</td>\n      <td>https://hh.ru/resume/fffac4d10008b9842c00000b3...</td>\n      <td>Преподаватель Python</td>\n    </tr>\n    <tr>\n      <th>66017</th>\n      <td>-0.083280</td>\n      <td>-0.075654</td>\n      <td>-0.060363</td>\n      <td>-0.060363</td>\n      <td>https://hh.ru/resume/66af2e7d0007e90f6d00000b3...</td>\n      <td>Фельдшер скорой помощи</td>\n    </tr>\n  </tbody>\n</table>\n<p>164651 rows × 6 columns</p>\n</div>"
     },
     "execution_count": 302,
     "metadata": {},
     "output_type": "execute_result"
    }
   ],
   "source": [
    "itog = []\n",
    "with tqdm(total=len(resumes)) as pbar:\n",
    "    for index, row in resumes.iterrows():\n",
    "        itog_for_resume = []\n",
    "        for example_resume in example_resumes:\n",
    "            itog_for_example = []\n",
    "            for example_resume_vector in example_resume['sentence_vectors']:\n",
    "                itog_for_sentence = []\n",
    "                for sentence_vector in row['sentence_vectors']:\n",
    "                    sent_sim = cosine_similarity(sentence_vector.reshape(1, -1), example_resume_vector.reshape(1, -1))[0][0]\n",
    "                    itog_for_sentence.append(sent_sim)\n",
    "                itog_for_example.append(max(itog_for_sentence))\n",
    "            itog_for_resume.append(mean(itog_for_example))\n",
    "        itog_for_resume.append(max(itog_for_resume))\n",
    "        itog_for_resume.append(row['url'])\n",
    "        itog_for_resume.append(row['position_name'])\n",
    "        itog.append(itog_for_resume)\n",
    "        pbar.update(1)\n",
    "\n",
    "\n",
    "example_resumes_names = [example_resume['position_name'] for example_resume in example_resumes]\n",
    "example_resumes_names.append('itog')\n",
    "example_resumes_names.append('url')\n",
    "example_resumes_names.append('position name')\n",
    "result_sim = pd.DataFrame(itog, columns=example_resumes_names)\n",
    "\n",
    "\n",
    "\n",
    "result_sim = result_sim.sort_values(by='itog', ascending=False)\n",
    "result_sim"
   ],
   "metadata": {
    "collapsed": false,
    "pycharm": {
     "name": "#%%\n"
    }
   }
  },
  {
   "cell_type": "code",
   "execution_count": null,
   "outputs": [],
   "source": [],
   "metadata": {
    "collapsed": false,
    "pycharm": {
     "name": "#%%\n"
    }
   }
  }
 ],
 "metadata": {
  "kernelspec": {
   "display_name": "Python 3 (ipykernel)",
   "language": "python",
   "name": "python3"
  },
  "language_info": {
   "codemirror_mode": {
    "name": "ipython",
    "version": 3
   },
   "file_extension": ".py",
   "mimetype": "text/x-python",
   "name": "python",
   "nbconvert_exporter": "python",
   "pygments_lexer": "ipython3",
   "version": "3.9.10"
  }
 },
 "nbformat": 4,
 "nbformat_minor": 1
}